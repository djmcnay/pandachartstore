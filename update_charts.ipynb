{
 "cells": [
  {
   "cell_type": "markdown",
   "metadata": {},
   "source": [
    "# Chart Update Script\n",
    "\n",
    "**MUST be stored in ROOT of chartstore repo (folder)**"
   ]
  },
  {
   "cell_type": "code",
   "execution_count": 11,
   "metadata": {},
   "outputs": [
    {
     "name": "stdout",
     "output_type": "stream",
     "text": [
      "Collecting hongxiongmao from git+https://github.com/djmcnay/hongxiongmao#egg=hongxiongmao\n",
      "  Cloning https://github.com/djmcnay/hongxiongmao to /private/var/folders/6g/z_d85_5j1nxb1w_b3h9hzgz40000gn/T/pip-install-uynsg64t/hongxiongmao\n",
      "  Running command git clone -q https://github.com/djmcnay/hongxiongmao /private/var/folders/6g/z_d85_5j1nxb1w_b3h9hzgz40000gn/T/pip-install-uynsg64t/hongxiongmao\n",
      "Requirement already satisfied, skipping upgrade: pandas in /Users/David/anaconda3/lib/python3.7/site-packages (from hongxiongmao) (0.24.2)\n",
      "Requirement already satisfied, skipping upgrade: sklearn in /Users/David/anaconda3/lib/python3.7/site-packages (from hongxiongmao) (0.0)\n",
      "Requirement already satisfied, skipping upgrade: plotly in /Users/David/anaconda3/lib/python3.7/site-packages (from hongxiongmao) (3.9.0)\n",
      "Requirement already satisfied, skipping upgrade: quandl in /Users/David/anaconda3/lib/python3.7/site-packages (from hongxiongmao) (3.4.8)\n",
      "Requirement already satisfied, skipping upgrade: alpha_vantage in /Users/David/anaconda3/lib/python3.7/site-packages (from hongxiongmao) (2.1.0)\n",
      "Requirement already satisfied, skipping upgrade: python-dateutil>=2.5.0 in /Users/David/anaconda3/lib/python3.7/site-packages (from pandas->hongxiongmao) (2.8.0)\n",
      "Requirement already satisfied, skipping upgrade: numpy>=1.12.0 in /Users/David/anaconda3/lib/python3.7/site-packages (from pandas->hongxiongmao) (1.16.4)\n",
      "Requirement already satisfied, skipping upgrade: pytz>=2011k in /Users/David/anaconda3/lib/python3.7/site-packages (from pandas->hongxiongmao) (2019.1)\n",
      "Requirement already satisfied, skipping upgrade: scikit-learn in /Users/David/anaconda3/lib/python3.7/site-packages (from sklearn->hongxiongmao) (0.21.1)\n",
      "Requirement already satisfied, skipping upgrade: retrying>=1.3.3 in /Users/David/anaconda3/lib/python3.7/site-packages (from plotly->hongxiongmao) (1.3.3)\n",
      "Requirement already satisfied, skipping upgrade: nbformat>=4.2 in /Users/David/anaconda3/lib/python3.7/site-packages (from plotly->hongxiongmao) (4.4.0)\n",
      "Requirement already satisfied, skipping upgrade: decorator>=4.0.6 in /Users/David/anaconda3/lib/python3.7/site-packages (from plotly->hongxiongmao) (4.4.0)\n",
      "Requirement already satisfied, skipping upgrade: six in /Users/David/anaconda3/lib/python3.7/site-packages (from plotly->hongxiongmao) (1.12.0)\n",
      "Requirement already satisfied, skipping upgrade: requests in /Users/David/anaconda3/lib/python3.7/site-packages (from plotly->hongxiongmao) (2.21.0)\n",
      "Requirement already satisfied, skipping upgrade: inflection>=0.3.1 in /Users/David/anaconda3/lib/python3.7/site-packages (from quandl->hongxiongmao) (0.3.1)\n",
      "Requirement already satisfied, skipping upgrade: pyasn1 in /Users/David/anaconda3/lib/python3.7/site-packages (from quandl->hongxiongmao) (0.4.5)\n",
      "Requirement already satisfied, skipping upgrade: ndg-httpsclient in /Users/David/anaconda3/lib/python3.7/site-packages (from quandl->hongxiongmao) (0.5.1)\n",
      "Requirement already satisfied, skipping upgrade: pyOpenSSL in /Users/David/anaconda3/lib/python3.7/site-packages (from quandl->hongxiongmao) (19.0.0)\n",
      "Requirement already satisfied, skipping upgrade: more-itertools<=5.0.0 in /Users/David/anaconda3/lib/python3.7/site-packages (from quandl->hongxiongmao) (5.0.0)\n",
      "Requirement already satisfied, skipping upgrade: scipy>=0.17.0 in /Users/David/anaconda3/lib/python3.7/site-packages (from scikit-learn->sklearn->hongxiongmao) (1.2.1)\n",
      "Requirement already satisfied, skipping upgrade: joblib>=0.11 in /Users/David/anaconda3/lib/python3.7/site-packages (from scikit-learn->sklearn->hongxiongmao) (0.13.2)\n",
      "Requirement already satisfied, skipping upgrade: jsonschema!=2.5.0,>=2.4 in /Users/David/anaconda3/lib/python3.7/site-packages (from nbformat>=4.2->plotly->hongxiongmao) (3.0.1)\n",
      "Requirement already satisfied, skipping upgrade: ipython-genutils in /Users/David/anaconda3/lib/python3.7/site-packages (from nbformat>=4.2->plotly->hongxiongmao) (0.2.0)\n",
      "Requirement already satisfied, skipping upgrade: traitlets>=4.1 in /Users/David/anaconda3/lib/python3.7/site-packages (from nbformat>=4.2->plotly->hongxiongmao) (4.3.2)\n",
      "Requirement already satisfied, skipping upgrade: jupyter-core in /Users/David/anaconda3/lib/python3.7/site-packages (from nbformat>=4.2->plotly->hongxiongmao) (4.4.0)\n",
      "Requirement already satisfied, skipping upgrade: certifi>=2017.4.17 in /Users/David/anaconda3/lib/python3.7/site-packages (from requests->plotly->hongxiongmao) (2019.3.9)\n",
      "Requirement already satisfied, skipping upgrade: urllib3<1.25,>=1.21.1 in /Users/David/anaconda3/lib/python3.7/site-packages (from requests->plotly->hongxiongmao) (1.24.2)\n",
      "Requirement already satisfied, skipping upgrade: chardet<3.1.0,>=3.0.2 in /Users/David/anaconda3/lib/python3.7/site-packages (from requests->plotly->hongxiongmao) (3.0.4)\n",
      "Requirement already satisfied, skipping upgrade: idna<2.9,>=2.5 in /Users/David/anaconda3/lib/python3.7/site-packages (from requests->plotly->hongxiongmao) (2.8)\n",
      "Requirement already satisfied, skipping upgrade: cryptography>=2.3 in /Users/David/anaconda3/lib/python3.7/site-packages (from pyOpenSSL->quandl->hongxiongmao) (2.6.1)\n",
      "Requirement already satisfied, skipping upgrade: attrs>=17.4.0 in /Users/David/anaconda3/lib/python3.7/site-packages (from jsonschema!=2.5.0,>=2.4->nbformat>=4.2->plotly->hongxiongmao) (19.1.0)\n",
      "Requirement already satisfied, skipping upgrade: pyrsistent>=0.14.0 in /Users/David/anaconda3/lib/python3.7/site-packages (from jsonschema!=2.5.0,>=2.4->nbformat>=4.2->plotly->hongxiongmao) (0.14.11)\n",
      "Requirement already satisfied, skipping upgrade: setuptools in /Users/David/anaconda3/lib/python3.7/site-packages (from jsonschema!=2.5.0,>=2.4->nbformat>=4.2->plotly->hongxiongmao) (41.0.1)\n",
      "Requirement already satisfied, skipping upgrade: asn1crypto>=0.21.0 in /Users/David/anaconda3/lib/python3.7/site-packages (from cryptography>=2.3->pyOpenSSL->quandl->hongxiongmao) (0.24.0)\n",
      "Requirement already satisfied, skipping upgrade: cffi!=1.11.3,>=1.8 in /Users/David/anaconda3/lib/python3.7/site-packages (from cryptography>=2.3->pyOpenSSL->quandl->hongxiongmao) (1.12.3)\n",
      "Requirement already satisfied, skipping upgrade: pycparser in /Users/David/anaconda3/lib/python3.7/site-packages (from cffi!=1.11.3,>=1.8->cryptography>=2.3->pyOpenSSL->quandl->hongxiongmao) (2.19)\n",
      "Building wheels for collected packages: hongxiongmao\n",
      "  Building wheel for hongxiongmao (setup.py) ... \u001b[?25ldone\n",
      "\u001b[?25h  Stored in directory: /private/var/folders/6g/z_d85_5j1nxb1w_b3h9hzgz40000gn/T/pip-ephem-wheel-cache-j11v4z63/wheels/40/f0/13/cb7f72f4fee1e8b65e0e31689c582a05d9d84d7f2b7b07cc16\n",
      "Successfully built hongxiongmao\n",
      "Installing collected packages: hongxiongmao\n",
      "  Found existing installation: hongxiongmao 0.1.dev0\n",
      "    Uninstalling hongxiongmao-0.1.dev0:\n",
      "      Successfully uninstalled hongxiongmao-0.1.dev0\n",
      "Successfully installed hongxiongmao-0.1.dev0\n"
     ]
    }
   ],
   "source": [
    "# OPTIONAL - uncomment to use\n",
    "# Update hongxiongmao from Github (only need if recent changes worth updating)\n",
    "! pip install git+https://github.com/djmcnay/hongxiongmao#egg=hongxiongmao --upgrade"
   ]
  },
  {
   "cell_type": "code",
   "execution_count": 12,
   "metadata": {},
   "outputs": [],
   "source": [
    "import pickle\n",
    "import numpy as np\n",
    "import pandas as pd\n",
    "import datetime\n",
    "import plotly.offline as py\n",
    "\n",
    "# HXM Dependencies\n",
    "from hongxiongmao.download import alphavantage as av\n",
    "from hongxiongmao import utilities"
   ]
  },
  {
   "cell_type": "code",
   "execution_count": 3,
   "metadata": {},
   "outputs": [
    {
     "data": {
      "text/plain": [
       "'PlotlyHTMLexJS/pokemon.html'"
      ]
     },
     "execution_count": 3,
     "metadata": {},
     "output_type": "execute_result"
    }
   ],
   "source": [
    "# POKEMON\n",
    "from hongxiongmao import pokemon\n",
    "p = pokemon.pokemon_go()\n",
    "p.download_and_run()\n",
    "p.plotlyplot()\n",
    "py.plot(p.plot, filename='PlotlyHTMLexJS/pokemon.html',\n",
    "        auto_open=False, include_plotlyjs='cdn', include_mathjax='cdn')"
   ]
  },
  {
   "cell_type": "code",
   "execution_count": 4,
   "metadata": {},
   "outputs": [
    {
     "name": "stdout",
     "output_type": "stream",
     "text": [
      "AlphaVantage call on ACWI downloaded\n",
      "AlphaVantage call on SPY downloaded\n",
      "AlphaVantage call on QQQ downloaded\n",
      "AlphaVantage call on VEA downloaded\n",
      "AlphaVantage call on IEMG downloaded\n",
      "ERR: AlphaVantage call on VWO; retry in 5s\n",
      "ERR: AlphaVantage call on VWO; retry in 10s\n",
      "ERR: AlphaVantage call on VWO; retry in 15s\n",
      "AlphaVantage call on VWO downloaded\n",
      "AlphaVantage call on ASHR downloaded\n",
      "AlphaVantage call on VNQ downloaded\n",
      "AlphaVantage call on AGG downloaded\n",
      "AlphaVantage call on GOVT downloaded\n",
      "ERR: AlphaVantage call on TIP; retry in 5s\n",
      "ERR: AlphaVantage call on TIP; retry in 10s\n",
      "ERR: AlphaVantage call on TIP; retry in 15s\n",
      "ERR: AlphaVantage call on TIP; retry in 20s\n",
      "AlphaVantage call on TIP downloaded\n",
      "AlphaVantage call on LQD downloaded\n",
      "AlphaVantage call on HYG downloaded\n",
      "AlphaVantage call on EMB downloaded\n",
      "AlphaVantage call on EMLC downloaded\n",
      "ERR: AlphaVantage call on GLD; retry in 5s\n",
      "ERR: AlphaVantage call on GLD; retry in 10s\n",
      "ERR: AlphaVantage call on GLD; retry in 15s\n",
      "ERR: AlphaVantage call on GLD; retry in 20s\n",
      "AlphaVantage call on GLD downloaded\n",
      "AlphaVantage call on BIL downloaded\n",
      "av_us_etfs_daily updated & Pickled in data/\n"
     ]
    }
   ],
   "source": [
    "# Update US ETFs from AlphaVantage\n",
    "dl = av()    # setup download class for av\n",
    "x = dl.dl_from_ticker_dict(dl.us_etfs, output_size='full')   # pull 100d of daily data\n",
    "\n",
    "# Picklemerge to Datastore & keep merger dict open\n",
    "path = 'data'                    \n",
    "filename = 'av_us_etfs_daily'\n",
    "a = utilities.picklemerger(filename=filename, b=x, blend='left', path=path, create_new=True, output=True)"
   ]
  },
  {
   "cell_type": "code",
   "execution_count": 5,
   "metadata": {},
   "outputs": [
    {
     "data": {
      "text/plain": [
       "'PlotlyHTMLexJS/principaldrivers.html'"
      ]
     },
     "execution_count": 5,
     "metadata": {},
     "output_type": "execute_result"
    }
   ],
   "source": [
    "from hongxiongmao import correlation\n",
    "\n",
    "infile = open('data/av_us_etfs_daily', 'rb')\n",
    "a = pickle.load(infile)\n",
    "infile.close()\n",
    "\n",
    "etfs=['SPY', 'VEA', 'VWO', 'GOVT', 'TIP', 'LQD', 'HYG', 'EMB', 'EMLC', 'GLD']\n",
    "px = utilities.daily2weekly(a['close']).loc[:,etfs]\n",
    "\n",
    "pdi = correlation.pdi(ts=px)\n",
    "pdi.run(n=26)\n",
    "py.plot(pdi.plot, filename='PlotlyHTMLexJS/principaldrivers.html',\n",
    "        auto_open=False, auto_play=False, include_plotlyjs='cdn', include_mathjax='cdn')"
   ]
  },
  {
   "cell_type": "code",
   "execution_count": 15,
   "metadata": {},
   "outputs": [
    {
     "data": {
      "image/png": "[encoded data removed]",
      "text/plain": [
       "<Figure size 937.5x437.5 with 2 Axes>"
      ]
     },
     "metadata": {
      "needs_background": "light"
     },
     "output_type": "display_data"
    }
   ],
   "source": [
    "rtns = utilities.daily2weekly(a['close']).pct_change()\n",
    "fig = correlation.mpl_duo_dendrogram(rtns, px=False)\n",
    "fig.savefig('matplotlib/duodenrogram_etfs.png', bbox_inches='tight')"
   ]
  },
  {
   "cell_type": "markdown",
   "metadata": {},
   "source": [
    "## Push to Github Repo"
   ]
  },
  {
   "cell_type": "code",
   "execution_count": 16,
   "metadata": {},
   "outputs": [
    {
     "name": "stdout",
     "output_type": "stream",
     "text": [
      "The following paths are ignored by one of your .gitignore files:\n",
      "__pycache__\n",
      "Use -f if you really want to add them.\n",
      "[master 3f6381f] auto update\n",
      " 2 files changed, 10 insertions(+), 10 deletions(-)\n",
      " create mode 100644 matplotlib/duodenrogram_etfs.png\n",
      "Counting objects: 4, done.\n",
      "Delta compression using up to 4 threads.\n",
      "Compressing objects: 100% (4/4), done.\n",
      "Writing objects: 100% (4/4), 626 bytes | 626.00 KiB/s, done.\n",
      "Total 4 (delta 2), reused 0 (delta 0)\n",
      "remote: Resolving deltas: 100% (2/2), completed with 2 local objects.\u001b[K\n",
      "To https://github.com/djmcnay/pandachartstore.git\n",
      "   639cf30..3f6381f  master -> master\n"
     ]
    }
   ],
   "source": [
    "! git add ./*                  # add all files to git staging area\n",
    "! git commit -m \"auto update\"\n",
    "! git push origin master       # push to master branch"
   ]
  },
  {
   "cell_type": "code",
   "execution_count": null,
   "metadata": {},
   "outputs": [],
   "source": []
  }
 ],
 "metadata": {
  "kernelspec": {
   "display_name": "Python 3",
   "language": "python",
   "name": "python3"
  },
  "language_info": {
   "codemirror_mode": {
    "name": "ipython",
    "version": 3
   },
   "file_extension": ".py",
   "mimetype": "text/x-python",
   "name": "python",
   "nbconvert_exporter": "python",
   "pygments_lexer": "ipython3",
   "version": "3.7.3"
  }
 },
 "nbformat": 4,
 "nbformat_minor": 2
}
