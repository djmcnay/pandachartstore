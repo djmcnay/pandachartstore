{
 "cells": [
  {
   "cell_type": "markdown",
   "metadata": {},
   "source": [
    "# Chart Update Script\n",
    "\n",
    "**MUST be stored in ROOT of chartstore repo (folder)**"
   ]
  },
  {
   "cell_type": "code",
   "execution_count": 1,
   "metadata": {},
   "outputs": [
    {
     "name": "stdout",
     "output_type": "stream",
     "text": [
      "Collecting hongxiongmao from git+https://github.com/djmcnay/hongxiongmao#egg=hongxiongmao\n",
      "  Cloning https://github.com/djmcnay/hongxiongmao to /private/var/folders/6g/z_d85_5j1nxb1w_b3h9hzgz40000gn/T/pip-install-ejidt_6i/hongxiongmao\n",
      "  Running command git clone -q https://github.com/djmcnay/hongxiongmao /private/var/folders/6g/z_d85_5j1nxb1w_b3h9hzgz40000gn/T/pip-install-ejidt_6i/hongxiongmao\n",
      "Requirement already satisfied, skipping upgrade: pandas in /Users/David/anaconda3/lib/python3.7/site-packages (from hongxiongmao) (0.24.2)\n",
      "Requirement already satisfied, skipping upgrade: scipy in /Users/David/anaconda3/lib/python3.7/site-packages (from hongxiongmao) (1.2.1)\n",
      "Requirement already satisfied, skipping upgrade: sklearn in /Users/David/anaconda3/lib/python3.7/site-packages (from hongxiongmao) (0.0)\n",
      "Requirement already satisfied, skipping upgrade: plotly in /Users/David/anaconda3/lib/python3.7/site-packages (from hongxiongmao) (3.10.0)\n",
      "Requirement already satisfied, skipping upgrade: plotly_express in /Users/David/anaconda3/lib/python3.7/site-packages (from hongxiongmao) (0.3.1)\n",
      "Requirement already satisfied, skipping upgrade: quandl in /Users/David/anaconda3/lib/python3.7/site-packages (from hongxiongmao) (3.4.8)\n",
      "Requirement already satisfied, skipping upgrade: alpha_vantage in /Users/David/anaconda3/lib/python3.7/site-packages (from hongxiongmao) (2.1.0)\n",
      "Requirement already satisfied, skipping upgrade: pytz>=2011k in /Users/David/anaconda3/lib/python3.7/site-packages (from pandas->hongxiongmao) (2019.1)\n",
      "Requirement already satisfied, skipping upgrade: python-dateutil>=2.5.0 in /Users/David/anaconda3/lib/python3.7/site-packages (from pandas->hongxiongmao) (2.8.0)\n",
      "Requirement already satisfied, skipping upgrade: numpy>=1.12.0 in /Users/David/anaconda3/lib/python3.7/site-packages (from pandas->hongxiongmao) (1.16.4)\n",
      "Requirement already satisfied, skipping upgrade: scikit-learn in /Users/David/anaconda3/lib/python3.7/site-packages (from sklearn->hongxiongmao) (0.21.1)\n",
      "Requirement already satisfied, skipping upgrade: retrying>=1.3.3 in /Users/David/anaconda3/lib/python3.7/site-packages (from plotly->hongxiongmao) (1.3.3)\n",
      "Requirement already satisfied, skipping upgrade: requests in /Users/David/anaconda3/lib/python3.7/site-packages (from plotly->hongxiongmao) (2.21.0)\n",
      "Requirement already satisfied, skipping upgrade: six in /Users/David/anaconda3/lib/python3.7/site-packages (from plotly->hongxiongmao) (1.12.0)\n",
      "Requirement already satisfied, skipping upgrade: nbformat>=4.2 in /Users/David/anaconda3/lib/python3.7/site-packages (from plotly->hongxiongmao) (4.4.0)\n",
      "Requirement already satisfied, skipping upgrade: decorator>=4.0.6 in /Users/David/anaconda3/lib/python3.7/site-packages (from plotly->hongxiongmao) (4.4.0)\n",
      "Requirement already satisfied, skipping upgrade: patsy>=0.5 in /Users/David/anaconda3/lib/python3.7/site-packages (from plotly_express->hongxiongmao) (0.5.1)\n",
      "Requirement already satisfied, skipping upgrade: statsmodels>=0.9.0 in /Users/David/anaconda3/lib/python3.7/site-packages (from plotly_express->hongxiongmao) (0.9.0)\n",
      "Requirement already satisfied, skipping upgrade: pyOpenSSL in /Users/David/anaconda3/lib/python3.7/site-packages (from quandl->hongxiongmao) (19.0.0)\n",
      "Requirement already satisfied, skipping upgrade: more-itertools<=5.0.0 in /Users/David/anaconda3/lib/python3.7/site-packages (from quandl->hongxiongmao) (5.0.0)\n",
      "Requirement already satisfied, skipping upgrade: ndg-httpsclient in /Users/David/anaconda3/lib/python3.7/site-packages (from quandl->hongxiongmao) (0.5.1)\n",
      "Requirement already satisfied, skipping upgrade: pyasn1 in /Users/David/anaconda3/lib/python3.7/site-packages (from quandl->hongxiongmao) (0.4.5)\n",
      "Requirement already satisfied, skipping upgrade: inflection>=0.3.1 in /Users/David/anaconda3/lib/python3.7/site-packages (from quandl->hongxiongmao) (0.3.1)\n",
      "Requirement already satisfied, skipping upgrade: joblib>=0.11 in /Users/David/anaconda3/lib/python3.7/site-packages (from scikit-learn->sklearn->hongxiongmao) (0.13.2)\n",
      "Requirement already satisfied, skipping upgrade: chardet<3.1.0,>=3.0.2 in /Users/David/anaconda3/lib/python3.7/site-packages (from requests->plotly->hongxiongmao) (3.0.4)\n",
      "Requirement already satisfied, skipping upgrade: certifi>=2017.4.17 in /Users/David/anaconda3/lib/python3.7/site-packages (from requests->plotly->hongxiongmao) (2019.3.9)\n",
      "Requirement already satisfied, skipping upgrade: idna<2.9,>=2.5 in /Users/David/anaconda3/lib/python3.7/site-packages (from requests->plotly->hongxiongmao) (2.8)\n",
      "Requirement already satisfied, skipping upgrade: urllib3<1.25,>=1.21.1 in /Users/David/anaconda3/lib/python3.7/site-packages (from requests->plotly->hongxiongmao) (1.24.2)\n",
      "Requirement already satisfied, skipping upgrade: jupyter-core in /Users/David/anaconda3/lib/python3.7/site-packages (from nbformat>=4.2->plotly->hongxiongmao) (4.4.0)\n",
      "Requirement already satisfied, skipping upgrade: jsonschema!=2.5.0,>=2.4 in /Users/David/anaconda3/lib/python3.7/site-packages (from nbformat>=4.2->plotly->hongxiongmao) (3.0.1)\n",
      "Requirement already satisfied, skipping upgrade: traitlets>=4.1 in /Users/David/anaconda3/lib/python3.7/site-packages (from nbformat>=4.2->plotly->hongxiongmao) (4.3.2)\n",
      "Requirement already satisfied, skipping upgrade: ipython-genutils in /Users/David/anaconda3/lib/python3.7/site-packages (from nbformat>=4.2->plotly->hongxiongmao) (0.2.0)\n",
      "Requirement already satisfied, skipping upgrade: cryptography>=2.3 in /Users/David/anaconda3/lib/python3.7/site-packages (from pyOpenSSL->quandl->hongxiongmao) (2.6.1)\n",
      "Requirement already satisfied, skipping upgrade: attrs>=17.4.0 in /Users/David/anaconda3/lib/python3.7/site-packages (from jsonschema!=2.5.0,>=2.4->nbformat>=4.2->plotly->hongxiongmao) (19.1.0)\n",
      "Requirement already satisfied, skipping upgrade: pyrsistent>=0.14.0 in /Users/David/anaconda3/lib/python3.7/site-packages (from jsonschema!=2.5.0,>=2.4->nbformat>=4.2->plotly->hongxiongmao) (0.14.11)\n",
      "Requirement already satisfied, skipping upgrade: setuptools in /Users/David/anaconda3/lib/python3.7/site-packages (from jsonschema!=2.5.0,>=2.4->nbformat>=4.2->plotly->hongxiongmao) (41.0.1)\n",
      "Requirement already satisfied, skipping upgrade: cffi!=1.11.3,>=1.8 in /Users/David/anaconda3/lib/python3.7/site-packages (from cryptography>=2.3->pyOpenSSL->quandl->hongxiongmao) (1.12.3)\n",
      "Requirement already satisfied, skipping upgrade: asn1crypto>=0.21.0 in /Users/David/anaconda3/lib/python3.7/site-packages (from cryptography>=2.3->pyOpenSSL->quandl->hongxiongmao) (0.24.0)\n",
      "Requirement already satisfied, skipping upgrade: pycparser in /Users/David/anaconda3/lib/python3.7/site-packages (from cffi!=1.11.3,>=1.8->cryptography>=2.3->pyOpenSSL->quandl->hongxiongmao) (2.19)\n",
      "Building wheels for collected packages: hongxiongmao\n",
      "  Building wheel for hongxiongmao (setup.py) ... \u001b[?25ldone\n",
      "\u001b[?25h  Stored in directory: /private/var/folders/6g/z_d85_5j1nxb1w_b3h9hzgz40000gn/T/pip-ephem-wheel-cache-3lii4vvv/wheels/40/f0/13/cb7f72f4fee1e8b65e0e31689c582a05d9d84d7f2b7b07cc16\n",
      "Successfully built hongxiongmao\n",
      "Installing collected packages: hongxiongmao\n",
      "  Found existing installation: hongxiongmao 0.1.dev0\n",
      "    Uninstalling hongxiongmao-0.1.dev0:\n",
      "      Successfully uninstalled hongxiongmao-0.1.dev0\n",
      "Successfully installed hongxiongmao-0.1.dev0\n"
     ]
    }
   ],
   "source": [
    "# OPTIONAL - uncomment to use\n",
    "# Update hongxiongmao from Github (only need if recent changes worth updating)\n",
    "! pip install git+https://github.com/djmcnay/hongxiongmao#egg=hongxiongmao --upgrade"
   ]
  },
  {
   "cell_type": "code",
   "execution_count": 2,
   "metadata": {},
   "outputs": [],
   "source": [
    "import pickle\n",
    "import numpy as np\n",
    "import pandas as pd\n",
    "import datetime\n",
    "import plotly.offline as py\n",
    "\n",
    "# HXM Dependencies\n",
    "from hongxiongmao import download as hxmdl\n",
    "from hongxiongmao import utilities\n",
    "from hongxiongmao import overplot"
   ]
  },
  {
   "cell_type": "code",
   "execution_count": 3,
   "metadata": {},
   "outputs": [
    {
     "data": {
      "text/plain": [
       "'PlotlyHTMLexJS/pokemon.html'"
      ]
     },
     "execution_count": 3,
     "metadata": {},
     "output_type": "execute_result"
    }
   ],
   "source": [
    "# POKEMON\n",
    "from hongxiongmao import pokemon\n",
    "p = pokemon.pokemon_go()\n",
    "p.download_and_run()\n",
    "p.plotlyplot()\n",
    "py.plot(p.plot, filename='PlotlyHTMLexJS/pokemon.html',\n",
    "        auto_open=False, include_plotlyjs='cdn', include_mathjax='cdn')"
   ]
  },
  {
   "cell_type": "code",
   "execution_count": 4,
   "metadata": {},
   "outputs": [
    {
     "name": "stdout",
     "output_type": "stream",
     "text": [
      "AlphaVantage call on ACWI downloaded\n",
      "AlphaVantage call on SPY downloaded\n",
      "AlphaVantage call on QQQ downloaded\n",
      "AlphaVantage call on VEA downloaded\n",
      "AlphaVantage call on IEMG downloaded\n",
      "ERR: AlphaVantage call on VWO; retry in 5s\n",
      "ERR: AlphaVantage call on VWO; retry in 10s\n",
      "ERR: AlphaVantage call on VWO; retry in 15s\n",
      "AlphaVantage call on VWO downloaded\n",
      "AlphaVantage call on ASHR downloaded\n",
      "AlphaVantage call on VNQ downloaded\n",
      "AlphaVantage call on AGG downloaded\n",
      "AlphaVantage call on GOVT downloaded\n",
      "ERR: AlphaVantage call on TIP; retry in 5s\n",
      "ERR: AlphaVantage call on TIP; retry in 10s\n",
      "ERR: AlphaVantage call on TIP; retry in 15s\n",
      "ERR: AlphaVantage call on TIP; retry in 20s\n",
      "AlphaVantage call on TIP downloaded\n",
      "AlphaVantage call on LQD downloaded\n",
      "AlphaVantage call on HYG downloaded\n",
      "AlphaVantage call on EMB downloaded\n",
      "AlphaVantage call on EMLC downloaded\n",
      "ERR: AlphaVantage call on GLD; retry in 5s\n",
      "ERR: AlphaVantage call on GLD; retry in 10s\n",
      "ERR: AlphaVantage call on GLD; retry in 15s\n",
      "ERR: AlphaVantage call on GLD; retry in 20s\n",
      "AlphaVantage call on GLD downloaded\n",
      "AlphaVantage call on BIL downloaded\n"
     ]
    }
   ],
   "source": [
    "# Pull US ETF Data from AlphaVantage\n",
    "dl = hxmdl.alphavantage()    # setup download class for av\n",
    "us_etfs = dl.dl_from_ticker_dict(dl.us_etfs, output_size='full')   # pull 100d of daily data"
   ]
  },
  {
   "cell_type": "code",
   "execution_count": 5,
   "metadata": {},
   "outputs": [
    {
     "data": {
      "text/plain": [
       "'PlotlyHTMLexJS/principaldrivers.html'"
      ]
     },
     "execution_count": 5,
     "metadata": {},
     "output_type": "execute_result"
    }
   ],
   "source": [
    "# Principal Drivers Index\n",
    "from hongxiongmao import correlation\n",
    "\n",
    "etfs=['SPY', 'VEA', 'VWO', 'GOVT', 'TIP', 'LQD', 'HYG', 'EMB', 'EMLC', 'GLD']\n",
    "px = utilities.daily2weekly(us_etfs['close']).loc[:,etfs]\n",
    "\n",
    "pdi = correlation.pdi(ts=px)\n",
    "pdi.run(n=26)\n",
    "py.plot(pdi.plot, filename='PlotlyHTMLexJS/principaldrivers.html',\n",
    "        auto_open=False, auto_play=False, include_plotlyjs='cdn', include_mathjax='cdn')"
   ]
  },
  {
   "cell_type": "code",
   "execution_count": 6,
   "metadata": {},
   "outputs": [],
   "source": [
    "# Duo-Dendrogram (uses wider ETF universe than PDI)\n",
    "rtns = utilities.daily2weekly(us_etfs['close']).pct_change()\n",
    "fig = correlation.duo_dendrogram_mpl(rtns, px=False)\n",
    "fig.savefig('matplotlib/duodenrogram_etfs.png', bbox_inches='tight')"
   ]
  },
  {
   "cell_type": "code",
   "execution_count": 9,
   "metadata": {},
   "outputs": [
    {
     "data": {
      "text/plain": [
       "'PlotlyHTMLexJS/cli_em.html'"
      ]
     },
     "execution_count": 9,
     "metadata": {},
     "output_type": "execute_result"
    }
   ],
   "source": [
    "dl = hxmdl.quandl_hxm()\n",
    "cli = dl.from_tickerdict('oecd_cli', start_date='-20y') - 100\n",
    "\n",
    "from hongxiongmao import overplot\n",
    "\n",
    "# CLI Developed Markets\n",
    "cli_dm = cli.loc[:,['US', 'UK', 'EURO', 'JAPAN', 'AUS', 'CANADA', 'KOREA', 'OECD']]\n",
    "cli_groups_dm = dict(ALL=list(cli_dm.columns), Major=['US', 'EURO', 'UK', 'JAPAN'],\n",
    "                     Other=['AUS', 'CANADA', 'KOREA', 'OECD'])\n",
    "fig = overplot.scatter_from_dataframe(cli_dm, groups=cli_groups_dm,\n",
    "                                      title='OECD Normalised CLI - Developed Markets',\n",
    "                                      ytitle='Normalised CLI (minus 100)',\n",
    "                                      button_position=[1.1, 0.25])\n",
    "py.plot(fig, filename='PlotlyHTMLexJS/cli_dm.html', auto_open=False, include_plotlyjs='cdn', include_mathjax='cdn')\n",
    "\n",
    "# CLI Emerging Markets\n",
    "cli_em = cli.loc[:,['CHINA', 'MEXICO', 'RUSSIA', 'INDIA', 'BRAZIL', 'TURKEY', 'ZAR', 'ASIA5']]\n",
    "cli_groups_em = dict(ALL=list(cli_em.columns), BRIC=['CHINA', 'BRAZIL', 'RUSSIA', 'INDIA'],\n",
    "                     Asia=['CHINA', 'INDIA', 'ASIA4'], Latam=['MEXICO', 'BRAZIL'], CEEMEA=['RUSSIA', 'TURKEY', 'ZAR'])\n",
    "fig = overplot.scatter_from_dataframe(cli_em, groups=cli_groups_em,\n",
    "                                      title='OECD Normalised CLI - Emerging Markets',\n",
    "                                      ytitle='Normalised CLI (minus 100)',\n",
    "                                      button_position=[1.1, 0.25])\n",
    "py.plot(fig, filename='PlotlyHTMLexJS/cli_em.html', auto_open=False, include_plotlyjs='cdn',include_mathjax='cdn')\n"
   ]
  },
  {
   "cell_type": "markdown",
   "metadata": {},
   "source": [
    "## Push to Github Repo"
   ]
  },
  {
   "cell_type": "code",
   "execution_count": 10,
   "metadata": {},
   "outputs": [
    {
     "name": "stdout",
     "output_type": "stream",
     "text": [
      "The following paths are ignored by one of your .gitignore files:\n",
      "__pycache__\n",
      "Use -f if you really want to add them.\n",
      "[master 511d4eb] auto update\n",
      " 3 files changed, 64 insertions(+), 19 deletions(-)\n",
      "Counting objects: 6, done.\n",
      "Delta compression using up to 4 threads.\n",
      "Compressing objects: 100% (6/6), done.\n",
      "Writing objects: 100% (6/6), 1.85 KiB | 1.85 MiB/s, done.\n",
      "Total 6 (delta 4), reused 0 (delta 0)\n",
      "remote: Resolving deltas: 100% (4/4), completed with 4 local objects.\u001b[K\n",
      "To https://github.com/djmcnay/pandachartstore.git\n",
      "   7a0a40b..511d4eb  master -> master\n"
     ]
    }
   ],
   "source": [
    "! git add ./*                  # add all files to git staging area\n",
    "! git commit -m \"auto update\"\n",
    "! git push origin master       # push to master branch"
   ]
  },
  {
   "cell_type": "code",
   "execution_count": null,
   "metadata": {},
   "outputs": [],
   "source": []
  }
 ],
 "metadata": {
  "kernelspec": {
   "display_name": "Python 3",
   "language": "python",
   "name": "python3"
  },
  "language_info": {
   "codemirror_mode": {
    "name": "ipython",
    "version": 3
   },
   "file_extension": ".py",
   "mimetype": "text/x-python",
   "name": "python",
   "nbconvert_exporter": "python",
   "pygments_lexer": "ipython3",
   "version": "3.7.3"
  }
 },
 "nbformat": 4,
 "nbformat_minor": 2
}
