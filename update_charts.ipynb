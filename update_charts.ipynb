{
 "cells": [
  {
   "cell_type": "markdown",
   "metadata": {},
   "source": [
    "# Chart Update Script\n",
    "\n",
    "**MUST be stored in ROOT of chartstore repo (folder)**"
   ]
  },
  {
   "cell_type": "code",
   "execution_count": 15,
   "metadata": {},
   "outputs": [],
   "source": [
    "# OPTIONAL - uncomment to use\n",
    "# Update hongxiongmao from Github (only need if recent changes worth updating)\n",
    "#! pip install git+https://github.com/djmcnay/hongxiongmao#egg=hongxiongmao --upgrade"
   ]
  },
  {
   "cell_type": "code",
   "execution_count": 2,
   "metadata": {},
   "outputs": [],
   "source": [
    "import numpy as np\n",
    "import pandas as pd\n",
    "import plotly.offline as py"
   ]
  },
  {
   "cell_type": "code",
   "execution_count": 13,
   "metadata": {},
   "outputs": [
    {
     "data": {
      "text/plain": [
       "'PlotlyHTMLexJS/pokemon.html'"
      ]
     },
     "execution_count": 13,
     "metadata": {},
     "output_type": "execute_result"
    }
   ],
   "source": [
    "from hongxiongmao import pokemon\n",
    "p = pokemon.pokemon_go()\n",
    "p.download_and_run()\n",
    "p.plotlyplot()\n",
    "#py.plot(p.plot, filename='PlotlyHTMLexJS/pokemon.html', auto_open=False, include_plotlyjs=False)\n",
    "py.plot(p.plot, filename='index.html', auto_open=False, include_plotlyjs=True)"
   ]
  },
  {
   "cell_type": "markdown",
   "metadata": {},
   "source": [
    "## Push to Github Repo"
   ]
  },
  {
   "cell_type": "code",
   "execution_count": 17,
   "metadata": {},
   "outputs": [
    {
     "name": "stdout",
     "output_type": "stream",
     "text": [
      "[master 0e5b3ae] Updating Charts\n",
      " 1 file changed, 140 insertions(+), 160 deletions(-)\n",
      " rewrite update_charts.ipynb (79%)\n",
      "Counting objects: 3, done.\n",
      "Delta compression using up to 4 threads.\n",
      "Compressing objects: 100% (3/3), done.\n",
      "Writing objects: 100% (3/3), 783 bytes | 783.00 KiB/s, done.\n",
      "Total 3 (delta 2), reused 0 (delta 0)\n",
      "remote: Resolving deltas: 100% (2/2), completed with 2 local objects.\u001b[K\n",
      "To https://github.com/djmcnay/pandachartstore.git\n",
      "   336dcb6..0e5b3ae  master -> master\n"
     ]
    }
   ],
   "source": [
    "! git add ./*                  # add all files to git staging area\n",
    "! git commit -m \"Updating Charts\"\n",
    "! git push origin master       # push to master branch"
   ]
  },
  {
   "cell_type": "code",
   "execution_count": null,
   "metadata": {},
   "outputs": [],
   "source": []
  }
 ],
 "metadata": {
  "kernelspec": {
   "display_name": "Python 3",
   "language": "python",
   "name": "python3"
  },
  "language_info": {
   "codemirror_mode": {
    "name": "ipython",
    "version": 3
   },
   "file_extension": ".py",
   "mimetype": "text/x-python",
   "name": "python",
   "nbconvert_exporter": "python",
   "pygments_lexer": "ipython3",
   "version": "3.7.3"
  }
 },
 "nbformat": 4,
 "nbformat_minor": 2
}
