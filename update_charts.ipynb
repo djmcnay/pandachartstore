{
 "cells": [
  {
   "cell_type": "markdown",
   "metadata": {},
   "source": [
    "# Chart Update Script\n",
    "\n",
    "**MUST be stored in ROOT of chartstore repo (folder)**"
   ]
  },
  {
   "cell_type": "code",
   "execution_count": 1,
   "metadata": {},
   "outputs": [
    {
     "name": "stdout",
     "output_type": "stream",
     "text": [
      "Collecting hongxiongmao from git+https://github.com/djmcnay/hongxiongmao#egg=hongxiongmao\n",
      "  Cloning https://github.com/djmcnay/hongxiongmao to /private/var/folders/6g/z_d85_5j1nxb1w_b3h9hzgz40000gn/T/pip-install-vlto2nmb/hongxiongmao\n",
      "Requirement already satisfied, skipping upgrade: pandas in /Users/David/anaconda3/lib/python3.6/site-packages (from hongxiongmao) (0.24.2)\n",
      "Requirement already satisfied, skipping upgrade: scipy in /Users/David/anaconda3/lib/python3.6/site-packages (from hongxiongmao) (1.2.1)\n",
      "Requirement already satisfied, skipping upgrade: sklearn in /Users/David/anaconda3/lib/python3.6/site-packages (from hongxiongmao) (0.0)\n",
      "Requirement already satisfied, skipping upgrade: ecos in /Users/David/anaconda3/lib/python3.6/site-packages (from hongxiongmao) (2.0.5)\n",
      "Requirement already satisfied, skipping upgrade: cvxpy in /Users/David/anaconda3/lib/python3.6/site-packages (from hongxiongmao) (1.0.24)\n",
      "Requirement already satisfied, skipping upgrade: plotly>=4.0 in /Users/David/anaconda3/lib/python3.6/site-packages (from hongxiongmao) (4.0.0)\n",
      "Requirement already satisfied, skipping upgrade: quandl in /Users/David/anaconda3/lib/python3.6/site-packages (from hongxiongmao) (3.3.0)\n",
      "Requirement already satisfied, skipping upgrade: alpha_vantage in /Users/David/anaconda3/lib/python3.6/site-packages (from hongxiongmao) (2.0.0)\n",
      "Requirement already satisfied, skipping upgrade: python-dateutil>=2.5.0 in /Users/David/anaconda3/lib/python3.6/site-packages (from pandas->hongxiongmao) (2.8.0)\n",
      "Requirement already satisfied, skipping upgrade: numpy>=1.12.0 in /Users/David/anaconda3/lib/python3.6/site-packages (from pandas->hongxiongmao) (1.16.2)\n",
      "Requirement already satisfied, skipping upgrade: pytz>=2011k in /Users/David/anaconda3/lib/python3.6/site-packages (from pandas->hongxiongmao) (2018.9)\n",
      "Requirement already satisfied, skipping upgrade: scikit-learn in /Users/David/anaconda3/lib/python3.6/site-packages (from sklearn->hongxiongmao) (0.20.3)\n",
      "Requirement already satisfied, skipping upgrade: multiprocess in /Users/David/anaconda3/lib/python3.6/site-packages (from cvxpy->hongxiongmao) (0.70.6.1)\n",
      "Requirement already satisfied, skipping upgrade: scs>=1.1.3 in /Users/David/anaconda3/lib/python3.6/site-packages (from cvxpy->hongxiongmao) (2.0.2)\n",
      "Requirement already satisfied, skipping upgrade: six in /Users/David/anaconda3/lib/python3.6/site-packages (from cvxpy->hongxiongmao) (1.12.0)\n",
      "Requirement already satisfied, skipping upgrade: osqp>=0.4.1 in /Users/David/anaconda3/lib/python3.6/site-packages (from cvxpy->hongxiongmao) (0.5.0)\n",
      "Requirement already satisfied, skipping upgrade: retrying>=1.3.3 in /Users/David/anaconda3/lib/python3.6/site-packages (from plotly>=4.0->hongxiongmao) (1.3.3)\n",
      "Requirement already satisfied, skipping upgrade: inflection>=0.3.1 in /Users/David/anaconda3/lib/python3.6/site-packages (from quandl->hongxiongmao) (0.3.1)\n",
      "Requirement already satisfied, skipping upgrade: pyOpenSSL in /Users/David/anaconda3/lib/python3.6/site-packages (from quandl->hongxiongmao) (19.0.0)\n",
      "Requirement already satisfied, skipping upgrade: ndg-httpsclient in /Users/David/anaconda3/lib/python3.6/site-packages (from quandl->hongxiongmao) (0.5.0)\n",
      "Requirement already satisfied, skipping upgrade: requests>=2.7.0 in /Users/David/anaconda3/lib/python3.6/site-packages (from quandl->hongxiongmao) (2.21.0)\n",
      "Requirement already satisfied, skipping upgrade: pyasn1 in /Users/David/anaconda3/lib/python3.6/site-packages (from quandl->hongxiongmao) (0.4.3)\n",
      "Requirement already satisfied, skipping upgrade: more-itertools in /Users/David/anaconda3/lib/python3.6/site-packages (from quandl->hongxiongmao) (6.0.0)\n",
      "Requirement already satisfied, skipping upgrade: simplejson in /Users/David/anaconda3/lib/python3.6/site-packages (from alpha_vantage->hongxiongmao) (3.15.0)\n",
      "Requirement already satisfied, skipping upgrade: dill>=0.2.8.1 in /Users/David/anaconda3/lib/python3.6/site-packages (from multiprocess->cvxpy->hongxiongmao) (0.2.8.2)\n",
      "Requirement already satisfied, skipping upgrade: future in /Users/David/anaconda3/lib/python3.6/site-packages (from osqp>=0.4.1->cvxpy->hongxiongmao) (0.16.0)\n",
      "Requirement already satisfied, skipping upgrade: cryptography>=2.3 in /Users/David/anaconda3/lib/python3.6/site-packages (from pyOpenSSL->quandl->hongxiongmao) (2.6.1)\n",
      "Requirement already satisfied, skipping upgrade: certifi>=2017.4.17 in /Users/David/anaconda3/lib/python3.6/site-packages (from requests>=2.7.0->quandl->hongxiongmao) (2019.6.16)\n",
      "Requirement already satisfied, skipping upgrade: chardet<3.1.0,>=3.0.2 in /Users/David/anaconda3/lib/python3.6/site-packages (from requests>=2.7.0->quandl->hongxiongmao) (3.0.4)\n",
      "Requirement already satisfied, skipping upgrade: urllib3<1.25,>=1.21.1 in /Users/David/anaconda3/lib/python3.6/site-packages (from requests>=2.7.0->quandl->hongxiongmao) (1.24.1)\n",
      "Requirement already satisfied, skipping upgrade: idna<2.9,>=2.5 in /Users/David/anaconda3/lib/python3.6/site-packages (from requests>=2.7.0->quandl->hongxiongmao) (2.8)\n",
      "Requirement already satisfied, skipping upgrade: asn1crypto>=0.21.0 in /Users/David/anaconda3/lib/python3.6/site-packages (from cryptography>=2.3->pyOpenSSL->quandl->hongxiongmao) (0.24.0)\n",
      "Requirement already satisfied, skipping upgrade: cffi!=1.11.3,>=1.8 in /Users/David/anaconda3/lib/python3.6/site-packages (from cryptography>=2.3->pyOpenSSL->quandl->hongxiongmao) (1.12.2)\n",
      "Requirement already satisfied, skipping upgrade: pycparser in /Users/David/anaconda3/lib/python3.6/site-packages (from cffi!=1.11.3,>=1.8->cryptography>=2.3->pyOpenSSL->quandl->hongxiongmao) (2.19)\n",
      "Building wheels for collected packages: hongxiongmao\n",
      "  Building wheel for hongxiongmao (setup.py) ... \u001b[?25ldone\n",
      "\u001b[?25h  Stored in directory: /private/var/folders/6g/z_d85_5j1nxb1w_b3h9hzgz40000gn/T/pip-ephem-wheel-cache-2ootsd1z/wheels/40/f0/13/cb7f72f4fee1e8b65e0e31689c582a05d9d84d7f2b7b07cc16\n",
      "Successfully built hongxiongmao\n",
      "Installing collected packages: hongxiongmao\n",
      "  Found existing installation: hongxiongmao 0.1.dev0\n",
      "    Uninstalling hongxiongmao-0.1.dev0:\n",
      "      Successfully uninstalled hongxiongmao-0.1.dev0\n",
      "Successfully installed hongxiongmao-0.1.dev0\n",
      "\u001b[33mYou are using pip version 19.1.1, however version 19.3.1 is available.\n",
      "You should consider upgrading via the 'pip install --upgrade pip' command.\u001b[0m\n"
     ]
    }
   ],
   "source": [
    "# OPTIONAL - uncomment to use\n",
    "# Update hongxiongmao from Github (only need if recent changes worth updating)\n",
    "! pip install git+https://github.com/djmcnay/hongxiongmao#egg=hongxiongmao --upgrade"
   ]
  },
  {
   "cell_type": "code",
   "execution_count": 2,
   "metadata": {},
   "outputs": [
    {
     "data": {
      "text/html": [
       "        <script type=\"text/javascript\">\n",
       "        window.PlotlyConfig = {MathJaxConfig: 'local'};\n",
       "        if (window.MathJax) {MathJax.Hub.Config({SVG: {font: \"STIX-Web\"}});}\n",
       "        if (typeof require !== 'undefined') {\n",
       "        require.undef(\"plotly\");\n",
       "        requirejs.config({\n",
       "            paths: {\n",
       "                'plotly': ['https://cdn.plot.ly/plotly-latest.min']\n",
       "            }\n",
       "        });\n",
       "        require(['plotly'], function(Plotly) {\n",
       "            window._Plotly = Plotly;\n",
       "        });\n",
       "        }\n",
       "        </script>\n",
       "        "
      ]
     },
     "metadata": {},
     "output_type": "display_data"
    }
   ],
   "source": [
    "import pickle\n",
    "import numpy as np\n",
    "import pandas as pd\n",
    "import datetime\n",
    "\n",
    "# Plotly Stuff\n",
    "import plotly.offline as py\n",
    "py.init_notebook_mode(connected=True)\n",
    "\n",
    "# HXM Dependencies\n",
    "import hongxiongmao as hxm"
   ]
  },
  {
   "cell_type": "code",
   "execution_count": 3,
   "metadata": {},
   "outputs": [
    {
     "data": {
      "text/plain": [
       "'PlotlyHTMLexJS/pokemon.html'"
      ]
     },
     "execution_count": 3,
     "metadata": {},
     "output_type": "execute_result"
    }
   ],
   "source": [
    "# POKEMON\n",
    "p = hxm.pokemon.pokemon_go()\n",
    "p.download_and_run()\n",
    "p.plotlyplot()\n",
    "py.plot(p.plot, filename='PlotlyHTMLexJS/pokemon.html',\n",
    "        auto_open=False, include_plotlyjs='cdn', include_mathjax='cdn')"
   ]
  },
  {
   "cell_type": "code",
   "execution_count": null,
   "metadata": {},
   "outputs": [
    {
     "name": "stdout",
     "output_type": "stream",
     "text": [
      "AlphaVantage call on ACWI downloaded\n",
      "AlphaVantage call on SPY downloaded\n",
      "AlphaVantage call on QQQ downloaded\n",
      "AlphaVantage call on VEA downloaded\n",
      "AlphaVantage call on IEMG downloaded\n",
      "AlphaVantage call on VWO downloaded\n",
      "AlphaVantage call on ASHR downloaded\n",
      "AlphaVantage call on VNQ downloaded\n",
      "AlphaVantage call on AGG downloaded\n",
      "AlphaVantage call on GOVT downloaded\n",
      "ERR: AlphaVantage call on TIP; retry in 5s\n",
      "ERR: AlphaVantage call on TIP; retry in 10s\n",
      "ERR: AlphaVantage call on TIP; retry in 15s\n",
      "AlphaVantage call on TIP downloaded\n",
      "AlphaVantage call on LQD downloaded\n",
      "AlphaVantage call on HYG downloaded\n",
      "AlphaVantage call on EMB downloaded\n",
      "AlphaVantage call on EMLC downloaded\n",
      "ERR: AlphaVantage call on GLD; retry in 5s\n",
      "ERR: AlphaVantage call on GLD; retry in 10s\n",
      "ERR: AlphaVantage call on GLD; retry in 15s\n",
      "AlphaVantage call on GLD downloaded\n"
     ]
    }
   ],
   "source": [
    "# Pull US ETF Data from AlphaVantage\n",
    "dl = hxm.download.alphavantage()    # setup download class for av\n",
    "us_etfs = dl.dl_from_ticker_dict(dl.us_etfs, output_size='full')   # pull 100d of daily data"
   ]
  },
  {
   "cell_type": "code",
   "execution_count": null,
   "metadata": {},
   "outputs": [],
   "source": [
    "# Principal Drivers Index\n",
    "etfs=['SPY','VEA','VWO','GOVT','TIP','LQD','HYG','EMB','EMLC','GLD']\n",
    "px = hxm.utilities.daily2weekly(us_etfs['close']).loc[:,etfs]\n",
    "\n",
    "pdi = hxm.correlation.pdi(ts=px)\n",
    "pdi.run(n=26)\n",
    "py.plot(pdi.plot, filename='PlotlyHTMLexJS/principaldrivers.html',\n",
    "        auto_open=False, auto_play=False, include_plotlyjs='cdn', include_mathjax='cdn')"
   ]
  },
  {
   "cell_type": "code",
   "execution_count": null,
   "metadata": {},
   "outputs": [],
   "source": [
    "# Duo-Dendrogram (uses wider ETF universe than PDI)\n",
    "rtns = hxm.utilities.daily2weekly(us_etfs['close']).pct_change()\n",
    "fig = hxm.correlation.duo_dendrogram_mpl(rtns, px=False)\n",
    "fig.savefig('matplotlib/duodenrogram_etfs.png', bbox_inches='tight')"
   ]
  },
  {
   "cell_type": "code",
   "execution_count": null,
   "metadata": {},
   "outputs": [],
   "source": [
    "# OECD Composite Leading Indicators\n",
    "\n",
    "## Download OECD CLI & Normalised GDP Data\n",
    "dl = hxm.download.quandl_hxm()\n",
    "cli = dl.from_tickerdict('oecd_cli', start_date='-20y') - 100\n",
    "gdp = dl.from_tickerdict('oecd_normalised_gdp', start_date='-20y') - 100\n",
    "\n",
    "## Setup Definitions & Groups to be shown on charts\n",
    "cli_dict = dict(dm=['US', 'UK', 'EURO', 'JAPAN', 'CANADA', 'KOREA', 'OECD'],\n",
    "                em=['CHINA', 'MEXICO', 'RUSSIA', 'INDIA', 'BRAZIL', 'TURKEY', 'ZAR', 'ASIA5'],)\n",
    "\n",
    "cli_groups = dict(dm=dict(ALL=cli_dict['dm'], Major=['US', 'EURO', 'UK', 'JAPAN'], Other=['CANADA', 'KOREA', 'OECD']),\n",
    "                  em=dict(ALL=cli_dict['em'], BRIC=['CHINA', 'BRAZIL', 'RUSSIA', 'INDIA'],\n",
    "                          Asia=['CHINA', 'INDIA', 'ASIA4'], Latam=['MEXICO', 'BRAZIL'],\n",
    "                          CEEMEA=['RUSSIA', 'TURKEY', 'ZAR']),)\n",
    "\n",
    "# Iterate through each grouping in CLI Dict\n",
    "for x in cli_dict.keys():\n",
    "    \n",
    "    # Standard Timeseries Scatterplot using CLI Data\n",
    "    py.plot(hxm.overplot.scatter_from_dataframe(cli.loc[:,cli_dict[x]], groups=cli_groups[x],\n",
    "                                      title='OECD Normalised CLI - Developed Markets',\n",
    "                                      ytitle='Normalised CLI (minus 100)',\n",
    "                                      button_position=[1.2, 0.5, 0, 0, 0, 0], button_direction = 'down'),\n",
    "            filename='PlotlyHTMLexJS/cli_'+x+'.html',\n",
    "            auto_open=False, include_plotlyjs='cdn', include_mathjax='cdn')\n",
    "    \n",
    "    # Swirlygram - Static\n",
    "    py.plot(hxm.overplot.swirlygram(cli.loc[:,cli_dict[x]], minax=[1, 1],\n",
    "            title='OECD Normalised CLI - Developed Markets', ytitle='Normalised CLI (minus 100)',),\n",
    "            filename='PlotlyHTMLexJS/cli_'+x+'_swirlygram.html',\n",
    "            auto_open=False, auto_play=False, include_plotlyjs='cdn')"
   ]
  },
  {
   "cell_type": "code",
   "execution_count": null,
   "metadata": {},
   "outputs": [],
   "source": [
    "# Animated Swirlygram\n",
    "swirlyregions = ['OECD', 'US']\n",
    "py.plot(hxm.overplot.swirlygram(cli.loc[:,swirlyregions], \n",
    "                            gdp.loc[:,swirlyregions],\n",
    "                            animation=True, minax=[1, 1],\n",
    "                            title='OECD CLI vs. GDP; Normalised with 6m lead', ytitle='Normalised CLI (minus 100)',),\n",
    "        filename='PlotlyHTMLexJS/cli_animated_swirlygram.html',\n",
    "        auto_open=False, auto_play=False, include_plotlyjs='cdn')"
   ]
  },
  {
   "cell_type": "code",
   "execution_count": null,
   "metadata": {},
   "outputs": [],
   "source": []
  },
  {
   "cell_type": "code",
   "execution_count": null,
   "metadata": {},
   "outputs": [],
   "source": []
  },
  {
   "cell_type": "markdown",
   "metadata": {},
   "source": [
    "## Push to Github Repo"
   ]
  },
  {
   "cell_type": "code",
   "execution_count": null,
   "metadata": {},
   "outputs": [],
   "source": [
    "! git add ./*                  # add all files to git staging area\n",
    "! git commit -m \"auto update\"\n",
    "! git push origin master       # push to master branch"
   ]
  },
  {
   "cell_type": "code",
   "execution_count": null,
   "metadata": {},
   "outputs": [],
   "source": []
  }
 ],
 "metadata": {
  "kernelspec": {
   "display_name": "Python 3",
   "language": "python",
   "name": "python3"
  },
  "language_info": {
   "codemirror_mode": {
    "name": "ipython",
    "version": 3
   },
   "file_extension": ".py",
   "mimetype": "text/x-python",
   "name": "python",
   "nbconvert_exporter": "python",
   "pygments_lexer": "ipython3",
   "version": "3.6.8"
  }
 },
 "nbformat": 4,
 "nbformat_minor": 2
}
